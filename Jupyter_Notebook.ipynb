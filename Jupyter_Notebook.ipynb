{
  "metadata": {
    "kernelspec": {
      "name": "python",
      "display_name": "Pyolite",
      "language": "python"
    },
    "language_info": {
      "codemirror_mode": {
        "name": "python",
        "version": 3
      },
      "file_extension": ".py",
      "mimetype": "text/x-python",
      "name": "python",
      "nbconvert_exporter": "python",
      "pygments_lexer": "ipython3",
      "version": "3.8"
    }
  },
  "nbformat_minor": 4,
  "nbformat": 4,
  "cells": [
    {
      "cell_type": "markdown",
      "source": "<center>\n    <img src=\"https://cf-courses-data.s3.us.cloud-object-storage.appdomain.cloud/IBMDeveloperSkillsNetwork-DS0105EN-SkillsNetwork/labs/Module2/images/SN_web_lightmode.png\" width=\"300\" alt=\"cognitiveclass.ai logo\"  />\n</center>\n",
      "metadata": {}
    },
    {
      "cell_type": "markdown",
      "source": "#### Add your code below following the instructions given in the course\n",
      "metadata": {}
    },
    {
      "cell_type": "markdown",
      "source": "# My Jupyter Notebook on IBM Watson Studio",
      "metadata": {}
    },
    {
      "cell_type": "markdown",
      "source": "**Nurlan Mukhambetrakhimov**",
      "metadata": {}
    },
    {
      "cell_type": "markdown",
      "source": "My current occupation:  Technical Translator (English-Russian and vice-versa)",
      "metadata": {}
    },
    {
      "cell_type": "markdown",
      "source": "*I am interested in data science because I want to try and become a data scientist, make the World a better place, contribute to some important researches.*",
      "metadata": {}
    },
    {
      "cell_type": "markdown",
      "source": "### The following expression evaluated to sum of two numbers: ",
      "metadata": {}
    },
    {
      "cell_type": "code",
      "source": "2 + 3",
      "metadata": {
        "trusted": true
      },
      "execution_count": null,
      "outputs": []
    },
    {
      "cell_type": "markdown",
      "source": "(however, as it is a case with some Lab tasks here and, especially on IBM site, the code doesn't work in my Notebook environment - I pressed Shift+Enter and ... nothing - I do not know why)",
      "metadata": {}
    },
    {
      "cell_type": "markdown",
      "source": "1. First ordered list item  \n2. Another item  \n3. Third item in a list  \n4. Fourt one and so on...   \n\n| Tables | Are | Cool |\n\n| col 1 | col 2 | col 3 |\n| row 2 | row 2 | row 3 |\n| Zebra | Stripes | are neat |\n\n-------------------------------\n******************************\n_________________________________\n\n* First ordered list item  \n* Another item  \n* Third item in a list  \n* Fourt one and so on...   ",
      "metadata": {}
    },
    {
      "cell_type": "code",
      "source": "",
      "metadata": {},
      "execution_count": null,
      "outputs": []
    }
  ]
}